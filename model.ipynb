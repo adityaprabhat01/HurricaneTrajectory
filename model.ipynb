{
 "cells": [
  {
   "cell_type": "code",
   "execution_count": 120,
   "metadata": {},
   "outputs": [],
   "source": [
    "import pandas as pd\n",
    "import numpy as np\n",
    "import matplotlib.pyplot as plt\n",
    "from geopy.distance import great_circle\n",
    "import time\n",
    "import math\n",
    "%matplotlib inline"
   ]
  },
  {
   "cell_type": "code",
   "execution_count": 121,
   "metadata": {},
   "outputs": [
    {
     "data": {
      "text/html": [
       "<div>\n",
       "<style scoped>\n",
       "    .dataframe tbody tr th:only-of-type {\n",
       "        vertical-align: middle;\n",
       "    }\n",
       "\n",
       "    .dataframe tbody tr th {\n",
       "        vertical-align: top;\n",
       "    }\n",
       "\n",
       "    .dataframe thead th {\n",
       "        text-align: right;\n",
       "    }\n",
       "</style>\n",
       "<table border=\"1\" class=\"dataframe\">\n",
       "  <thead>\n",
       "    <tr style=\"text-align: right;\">\n",
       "      <th></th>\n",
       "      <th>LATITUDE</th>\n",
       "      <th>LONGITUDE</th>\n",
       "      <th>TIME</th>\n",
       "      <th>WIND SPEED</th>\n",
       "      <th>PRESSURE</th>\n",
       "      <th>STATUS</th>\n",
       "      <th>NAME</th>\n",
       "    </tr>\n",
       "  </thead>\n",
       "  <tbody>\n",
       "    <tr>\n",
       "      <th>0</th>\n",
       "      <td>12.2</td>\n",
       "      <td>-28.9</td>\n",
       "      <td>08/13/06Z</td>\n",
       "      <td>30</td>\n",
       "      <td>1006</td>\n",
       "      <td>TROPICAL DEPRESSION</td>\n",
       "      <td>atlantic-2007-dean</td>\n",
       "    </tr>\n",
       "    <tr>\n",
       "      <th>1</th>\n",
       "      <td>12.1</td>\n",
       "      <td>-30.7</td>\n",
       "      <td>08/13/12Z</td>\n",
       "      <td>30</td>\n",
       "      <td>1005</td>\n",
       "      <td>TROPICAL DEPRESSION</td>\n",
       "      <td>atlantic-2007-dean</td>\n",
       "    </tr>\n",
       "    <tr>\n",
       "      <th>2</th>\n",
       "      <td>12.0</td>\n",
       "      <td>-32.4</td>\n",
       "      <td>08/13/18Z</td>\n",
       "      <td>30</td>\n",
       "      <td>1005</td>\n",
       "      <td>TROPICAL DEPRESSION</td>\n",
       "      <td>atlantic-2007-dean</td>\n",
       "    </tr>\n",
       "    <tr>\n",
       "      <th>3</th>\n",
       "      <td>11.9</td>\n",
       "      <td>-34.5</td>\n",
       "      <td>08/14/00Z</td>\n",
       "      <td>30</td>\n",
       "      <td>1005</td>\n",
       "      <td>TROPICAL DEPRESSION</td>\n",
       "      <td>atlantic-2007-dean</td>\n",
       "    </tr>\n",
       "    <tr>\n",
       "      <th>4</th>\n",
       "      <td>11.8</td>\n",
       "      <td>-36.5</td>\n",
       "      <td>08/14/06Z</td>\n",
       "      <td>30</td>\n",
       "      <td>1005</td>\n",
       "      <td>TROPICAL DEPRESSION</td>\n",
       "      <td>atlantic-2007-dean</td>\n",
       "    </tr>\n",
       "  </tbody>\n",
       "</table>\n",
       "</div>"
      ],
      "text/plain": [
       "   LATITUDE  LONGITUDE       TIME  WIND SPEED  PRESSURE               STATUS  \\\n",
       "0      12.2      -28.9  08/13/06Z          30      1006  TROPICAL DEPRESSION   \n",
       "1      12.1      -30.7  08/13/12Z          30      1005  TROPICAL DEPRESSION   \n",
       "2      12.0      -32.4  08/13/18Z          30      1005  TROPICAL DEPRESSION   \n",
       "3      11.9      -34.5  08/14/00Z          30      1005  TROPICAL DEPRESSION   \n",
       "4      11.8      -36.5  08/14/06Z          30      1005  TROPICAL DEPRESSION   \n",
       "\n",
       "                 NAME  \n",
       "0  atlantic-2007-dean  \n",
       "1  atlantic-2007-dean  \n",
       "2  atlantic-2007-dean  \n",
       "3  atlantic-2007-dean  \n",
       "4  atlantic-2007-dean  "
      ]
     },
     "execution_count": 121,
     "metadata": {},
     "output_type": "execute_result"
    }
   ],
   "source": [
    "df = pd.read_csv('dataset_real.csv', index_col = [0])\n",
    "df.reset_index(drop = True, inplace = True)\n",
    "df.head()"
   ]
  },
  {
   "cell_type": "code",
   "execution_count": 122,
   "metadata": {},
   "outputs": [
    {
     "name": "stdout",
     "output_type": "stream",
     "text": [
      "1498\n"
     ]
    },
    {
     "data": {
      "text/plain": [
       "36144"
      ]
     },
     "execution_count": 122,
     "metadata": {},
     "output_type": "execute_result"
    }
   ],
   "source": [
    "print(len(df['NAME'].unique()))\n",
    "len(df)"
   ]
  },
  {
   "cell_type": "code",
   "execution_count": 123,
   "metadata": {},
   "outputs": [
    {
     "data": {
      "text/plain": [
       "count    36144.000000\n",
       "mean        51.197377\n",
       "std         28.079471\n",
       "min         10.000000\n",
       "25%         30.000000\n",
       "50%         45.000000\n",
       "75%         65.000000\n",
       "max        175.000000\n",
       "Name: WIND SPEED, dtype: float64"
      ]
     },
     "execution_count": 123,
     "metadata": {},
     "output_type": "execute_result"
    }
   ],
   "source": [
    "df['WIND SPEED'].describe()"
   ]
  },
  {
   "cell_type": "code",
   "execution_count": 124,
   "metadata": {},
   "outputs": [],
   "source": [
    "x = [0 for w in range(36144)]\n",
    "df['DISTANCE'] = x\n",
    "df['DIRECTION'] = x"
   ]
  },
  {
   "cell_type": "code",
   "execution_count": 125,
   "metadata": {
    "scrolled": false
   },
   "outputs": [
    {
     "data": {
      "text/html": [
       "<div>\n",
       "<style scoped>\n",
       "    .dataframe tbody tr th:only-of-type {\n",
       "        vertical-align: middle;\n",
       "    }\n",
       "\n",
       "    .dataframe tbody tr th {\n",
       "        vertical-align: top;\n",
       "    }\n",
       "\n",
       "    .dataframe thead th {\n",
       "        text-align: right;\n",
       "    }\n",
       "</style>\n",
       "<table border=\"1\" class=\"dataframe\">\n",
       "  <thead>\n",
       "    <tr style=\"text-align: right;\">\n",
       "      <th></th>\n",
       "      <th>LATITUDE</th>\n",
       "      <th>LONGITUDE</th>\n",
       "      <th>TIME</th>\n",
       "      <th>WIND SPEED</th>\n",
       "      <th>PRESSURE</th>\n",
       "      <th>STATUS</th>\n",
       "      <th>NAME</th>\n",
       "      <th>DISTANCE</th>\n",
       "      <th>DIRECTION</th>\n",
       "    </tr>\n",
       "  </thead>\n",
       "  <tbody>\n",
       "    <tr>\n",
       "      <th>0</th>\n",
       "      <td>12.2</td>\n",
       "      <td>-28.9</td>\n",
       "      <td>08/13/06Z</td>\n",
       "      <td>30</td>\n",
       "      <td>1006</td>\n",
       "      <td>TROPICAL DEPRESSION</td>\n",
       "      <td>atlantic-2007-dean</td>\n",
       "      <td>0</td>\n",
       "      <td>0</td>\n",
       "    </tr>\n",
       "    <tr>\n",
       "      <th>1</th>\n",
       "      <td>12.1</td>\n",
       "      <td>-30.7</td>\n",
       "      <td>08/13/12Z</td>\n",
       "      <td>30</td>\n",
       "      <td>1005</td>\n",
       "      <td>TROPICAL DEPRESSION</td>\n",
       "      <td>atlantic-2007-dean</td>\n",
       "      <td>0</td>\n",
       "      <td>0</td>\n",
       "    </tr>\n",
       "    <tr>\n",
       "      <th>2</th>\n",
       "      <td>12.0</td>\n",
       "      <td>-32.4</td>\n",
       "      <td>08/13/18Z</td>\n",
       "      <td>30</td>\n",
       "      <td>1005</td>\n",
       "      <td>TROPICAL DEPRESSION</td>\n",
       "      <td>atlantic-2007-dean</td>\n",
       "      <td>0</td>\n",
       "      <td>0</td>\n",
       "    </tr>\n",
       "    <tr>\n",
       "      <th>3</th>\n",
       "      <td>11.9</td>\n",
       "      <td>-34.5</td>\n",
       "      <td>08/14/00Z</td>\n",
       "      <td>30</td>\n",
       "      <td>1005</td>\n",
       "      <td>TROPICAL DEPRESSION</td>\n",
       "      <td>atlantic-2007-dean</td>\n",
       "      <td>0</td>\n",
       "      <td>0</td>\n",
       "    </tr>\n",
       "    <tr>\n",
       "      <th>4</th>\n",
       "      <td>11.8</td>\n",
       "      <td>-36.5</td>\n",
       "      <td>08/14/06Z</td>\n",
       "      <td>30</td>\n",
       "      <td>1005</td>\n",
       "      <td>TROPICAL DEPRESSION</td>\n",
       "      <td>atlantic-2007-dean</td>\n",
       "      <td>0</td>\n",
       "      <td>0</td>\n",
       "    </tr>\n",
       "  </tbody>\n",
       "</table>\n",
       "</div>"
      ],
      "text/plain": [
       "   LATITUDE  LONGITUDE       TIME  WIND SPEED  PRESSURE               STATUS  \\\n",
       "0      12.2      -28.9  08/13/06Z          30      1006  TROPICAL DEPRESSION   \n",
       "1      12.1      -30.7  08/13/12Z          30      1005  TROPICAL DEPRESSION   \n",
       "2      12.0      -32.4  08/13/18Z          30      1005  TROPICAL DEPRESSION   \n",
       "3      11.9      -34.5  08/14/00Z          30      1005  TROPICAL DEPRESSION   \n",
       "4      11.8      -36.5  08/14/06Z          30      1005  TROPICAL DEPRESSION   \n",
       "\n",
       "                 NAME  DISTANCE  DIRECTION  \n",
       "0  atlantic-2007-dean         0          0  \n",
       "1  atlantic-2007-dean         0          0  \n",
       "2  atlantic-2007-dean         0          0  \n",
       "3  atlantic-2007-dean         0          0  \n",
       "4  atlantic-2007-dean         0          0  "
      ]
     },
     "execution_count": 125,
     "metadata": {},
     "output_type": "execute_result"
    }
   ],
   "source": [
    "df.head()"
   ]
  },
  {
   "cell_type": "code",
   "execution_count": 126,
   "metadata": {},
   "outputs": [],
   "source": [
    "t1 = time.time()\n",
    "x = 0\n",
    "y = 0\n",
    "distance = []\n",
    "distance = np.array(distance)\n",
    "hurricane_distance = []\n",
    "hurricane_distance = np.array(hurricane_distance)\n",
    "hurricane_angle = []\n",
    "hurricane_angle = np.array(hurricane_angle)\n",
    "hurricanes = df['NAME'].tolist()\n",
    "unique_hurricanes = df['NAME'].unique().tolist()\n",
    "for w in unique_hurricanes :\n",
    "        flag = 0\n",
    "        t = 0\n",
    "        count = hurricanes.count(w)\n",
    "        y = y + count\n",
    "        hurricane_array = []\n",
    "        brng = []\n",
    "        brng = np.array(brng)\n",
    "        hurricane_array = np.zeros((count, 6))\n",
    "        hurricane_array[:,0] = df['LATITUDE'][x:y]\n",
    "        hurricane_array[:,1] = df['LONGITUDE'][x:y]\n",
    "        hurricane_array[:,2] = df['WIND SPEED'][x:y]\n",
    "        hurricane_array[:,3] = df['PRESSURE'][x:y]\n",
    "        hurricane_array[:,4] = df['DISTANCE'][x:y]\n",
    "        hurricane_array[:,5] = df['DIRECTION'][x:y]\n",
    "        for e in range(count - 1) :\n",
    "            m = hurricane_array[t:t+2,0:2]\n",
    "            n = great_circle((float(m[0][0]),float(m[0][1])),(float(m[1][0]),float(m[1][1]))).miles\n",
    "            hurricane_array[t+1,4] = n\n",
    "            dLon = float(m[1][1]) - float(m[0][1])\n",
    "            y_x = np.sin(dLon) * np.cos(m[1][0])\n",
    "            x_x = np.cos(float(m[1][1])) * np.sin(float(m[1][0])) - np.sin(float(m[1][1])) * np.cos(float(m[1][0])) * np.cos(dLon)\n",
    "            brng = math.degrees(math.atan2(y_x, x_x))\n",
    "            if (brng < 0) :\n",
    "                brng += 360\n",
    "            hurricane_array[t+1,5] = brng\n",
    "            t = t + 1\n",
    "        distance = np.append(distance, np.sum(hurricane_array[:,4]))\n",
    "        hurricane_distance = np.append(hurricane_distance, hurricane_array[:,4])\n",
    "        hurricane_angle = np.append(hurricane_angle,hurricane_array[:,5])\n",
    "        x = y\n",
    "            \n",
    "t2 = time.time()"
   ]
  },
  {
   "cell_type": "code",
   "execution_count": 127,
   "metadata": {},
   "outputs": [],
   "source": [
    "hurricane_distance = hurricane_distance.tolist()\n",
    "hurricane_angle = hurricane_angle.tolist()\n",
    "df['DISTANCE'] = hurricane_distance\n",
    "df['DIRECTION'] = hurricane_angle"
   ]
  },
  {
   "cell_type": "code",
   "execution_count": 128,
   "metadata": {},
   "outputs": [
    {
     "name": "stdout",
     "output_type": "stream",
     "text": [
      "1.9993014335632324\n"
     ]
    },
    {
     "data": {
      "text/html": [
       "<div>\n",
       "<style scoped>\n",
       "    .dataframe tbody tr th:only-of-type {\n",
       "        vertical-align: middle;\n",
       "    }\n",
       "\n",
       "    .dataframe tbody tr th {\n",
       "        vertical-align: top;\n",
       "    }\n",
       "\n",
       "    .dataframe thead th {\n",
       "        text-align: right;\n",
       "    }\n",
       "</style>\n",
       "<table border=\"1\" class=\"dataframe\">\n",
       "  <thead>\n",
       "    <tr style=\"text-align: right;\">\n",
       "      <th></th>\n",
       "      <th>LATITUDE</th>\n",
       "      <th>LONGITUDE</th>\n",
       "      <th>TIME</th>\n",
       "      <th>WIND SPEED</th>\n",
       "      <th>PRESSURE</th>\n",
       "      <th>STATUS</th>\n",
       "      <th>NAME</th>\n",
       "      <th>DISTANCE</th>\n",
       "      <th>DIRECTION</th>\n",
       "    </tr>\n",
       "  </thead>\n",
       "  <tbody>\n",
       "    <tr>\n",
       "      <th>0</th>\n",
       "      <td>12.2</td>\n",
       "      <td>-28.9</td>\n",
       "      <td>08/13/06Z</td>\n",
       "      <td>30</td>\n",
       "      <td>1006</td>\n",
       "      <td>TROPICAL DEPRESSION</td>\n",
       "      <td>atlantic-2007-dean</td>\n",
       "      <td>0.000000</td>\n",
       "      <td>0.000000</td>\n",
       "    </tr>\n",
       "    <tr>\n",
       "      <th>1</th>\n",
       "      <td>12.1</td>\n",
       "      <td>-30.7</td>\n",
       "      <td>08/13/12Z</td>\n",
       "      <td>30</td>\n",
       "      <td>1005</td>\n",
       "      <td>TROPICAL DEPRESSION</td>\n",
       "      <td>atlantic-2007-dean</td>\n",
       "      <td>121.778232</td>\n",
       "      <td>256.672702</td>\n",
       "    </tr>\n",
       "    <tr>\n",
       "      <th>2</th>\n",
       "      <td>12.0</td>\n",
       "      <td>-32.4</td>\n",
       "      <td>08/13/18Z</td>\n",
       "      <td>30</td>\n",
       "      <td>1005</td>\n",
       "      <td>TROPICAL DEPRESSION</td>\n",
       "      <td>atlantic-2007-dean</td>\n",
       "      <td>115.078112</td>\n",
       "      <td>245.146827</td>\n",
       "    </tr>\n",
       "    <tr>\n",
       "      <th>3</th>\n",
       "      <td>11.9</td>\n",
       "      <td>-34.5</td>\n",
       "      <td>08/14/00Z</td>\n",
       "      <td>30</td>\n",
       "      <td>1005</td>\n",
       "      <td>TROPICAL DEPRESSION</td>\n",
       "      <td>atlantic-2007-dean</td>\n",
       "      <td>142.119450</td>\n",
       "      <td>311.213457</td>\n",
       "    </tr>\n",
       "    <tr>\n",
       "      <th>4</th>\n",
       "      <td>11.8</td>\n",
       "      <td>-36.5</td>\n",
       "      <td>08/14/06Z</td>\n",
       "      <td>30</td>\n",
       "      <td>1005</td>\n",
       "      <td>TROPICAL DEPRESSION</td>\n",
       "      <td>atlantic-2007-dean</td>\n",
       "      <td>135.417954</td>\n",
       "      <td>272.399960</td>\n",
       "    </tr>\n",
       "  </tbody>\n",
       "</table>\n",
       "</div>"
      ],
      "text/plain": [
       "   LATITUDE  LONGITUDE       TIME  WIND SPEED  PRESSURE               STATUS  \\\n",
       "0      12.2      -28.9  08/13/06Z          30      1006  TROPICAL DEPRESSION   \n",
       "1      12.1      -30.7  08/13/12Z          30      1005  TROPICAL DEPRESSION   \n",
       "2      12.0      -32.4  08/13/18Z          30      1005  TROPICAL DEPRESSION   \n",
       "3      11.9      -34.5  08/14/00Z          30      1005  TROPICAL DEPRESSION   \n",
       "4      11.8      -36.5  08/14/06Z          30      1005  TROPICAL DEPRESSION   \n",
       "\n",
       "                 NAME    DISTANCE   DIRECTION  \n",
       "0  atlantic-2007-dean    0.000000    0.000000  \n",
       "1  atlantic-2007-dean  121.778232  256.672702  \n",
       "2  atlantic-2007-dean  115.078112  245.146827  \n",
       "3  atlantic-2007-dean  142.119450  311.213457  \n",
       "4  atlantic-2007-dean  135.417954  272.399960  "
      ]
     },
     "execution_count": 128,
     "metadata": {},
     "output_type": "execute_result"
    }
   ],
   "source": [
    "print(t2-t1)\n",
    "df.to_csv('final_dataset.csv')\n",
    "df.head()"
   ]
  },
  {
   "cell_type": "code",
   "execution_count": 129,
   "metadata": {},
   "outputs": [
    {
     "name": "stdout",
     "output_type": "stream",
     "text": [
      "TOP FIVE HURRICANES BASED ON THE DISTANCE TRAVELLED BY THEM(in miles)\n",
      "['atlantic-2004-ivan', 7757.573772788027]\n",
      "['atlantic-2011-katia', 7755.775736301038]\n",
      "['e_pacific-1997-guillermo', 7665.608168204824]\n",
      "['atlantic-1998-mitch', 7421.006070822702]\n",
      "['atlantic-1995-felix', 7253.045320612249]\n"
     ]
    }
   ],
   "source": [
    "hurricane_list = []\n",
    "i = 0\n",
    "for w in unique_hurricanes :\n",
    "    temp = []\n",
    "    if(distance[i] != 0.0) :\n",
    "        temp.append(w)\n",
    "        temp.append(distance[i])\n",
    "        hurricane_list.append(temp)\n",
    "    i += 1\n",
    "    \n",
    "sorted_distance = sorted(hurricane_list, key = lambda x: (x[1], x[0]), reverse = True)\n",
    "print('TOP FIVE HURRICANES BASED ON THE DISTANCE TRAVELLED BY THEM(in miles)')\n",
    "list1 = []\n",
    "list2 = []\n",
    "for i in range(5) :\n",
    "    list1.append(sorted_distance[i][0])\n",
    "    list2.append(sorted_distance[len(sorted_distance) -i -1][0])\n",
    "    print(sorted_distance[i])"
   ]
  },
  {
   "cell_type": "code",
   "execution_count": 130,
   "metadata": {},
   "outputs": [
    {
     "name": "stdout",
     "output_type": "stream",
     "text": [
      "TRAJECTORY OF TOP FIVE LONGEST HURRICANES\n",
      "atlantic-2004-ivan\n"
     ]
    },
    {
     "data": {
      "image/png": "[encoded data removed]",
      "text/plain": [
       "<matplotlib.figure.Figure at 0x7f9382855208>"
      ]
     },
     "metadata": {
      "needs_background": "light"
     },
     "output_type": "display_data"
    },
    {
     "name": "stdout",
     "output_type": "stream",
     "text": [
      "atlantic-2011-katia\n"
     ]
    },
    {
     "data": {
      "image/png": "[encoded data removed]",
      "text/plain": [
       "<matplotlib.figure.Figure at 0x7f938285f748>"
      ]
     },
     "metadata": {
      "needs_background": "light"
     },
     "output_type": "display_data"
    },
    {
     "name": "stdout",
     "output_type": "stream",
     "text": [
      "e_pacific-1997-guillermo\n"
     ]
    },
    {
     "data": {
      "image/png": "[encoded data removed]",
      "text/plain": [
       "<matplotlib.figure.Figure at 0x7f938335df98>"
      ]
     },
     "metadata": {
      "needs_background": "light"
     },
     "output_type": "display_data"
    },
    {
     "name": "stdout",
     "output_type": "stream",
     "text": [
      "atlantic-1998-mitch\n"
     ]
    },
    {
     "data": {
      "image/png": "[encoded data removed]",
      "text/plain": [
       "<matplotlib.figure.Figure at 0x7f93821c8908>"
      ]
     },
     "metadata": {
      "needs_background": "light"
     },
     "output_type": "display_data"
    },
    {
     "name": "stdout",
     "output_type": "stream",
     "text": [
      "atlantic-1995-felix\n"
     ]
    },
    {
     "data": {
      "image/png": "[encoded data removed]",
      "text/plain": [
       "<matplotlib.figure.Figure at 0x7f94590ae518>"
      ]
     },
     "metadata": {
      "needs_background": "light"
     },
     "output_type": "display_data"
    }
   ],
   "source": [
    "print('TRAJECTORY OF TOP FIVE LONGEST HURRICANES')\n",
    "for w in list1 :\n",
    "    la = []\n",
    "    lo = []\n",
    "    for i in range(len(df)) :\n",
    "        if(df['NAME'][i] == w) :\n",
    "            la.append(df['LATITUDE'][i])\n",
    "            lo.append(df['LONGITUDE'][i])\n",
    "    print(w)\n",
    "    plt.plot(la,lo)\n",
    "    plt.show()"
   ]
  },
  {
   "cell_type": "code",
   "execution_count": 131,
   "metadata": {},
   "outputs": [
    {
     "name": "stdout",
     "output_type": "stream",
     "text": [
      "TRAJECTORY OF TOP FIVE SHORTEST HURRICANES\n",
      "atlantic-2017-six\n"
     ]
    },
    {
     "data": {
      "image/png": "[encoded data removed]",
      "text/plain": [
       "<matplotlib.figure.Figure at 0x7f9382a06cc0>"
      ]
     },
     "metadata": {
      "needs_background": "light"
     },
     "output_type": "display_data"
    },
    {
     "name": "stdout",
     "output_type": "stream",
     "text": [
      "e_pacific-1959-12\n"
     ]
    },
    {
     "data": {
      "image/png": "[encoded data removed]",
      "text/plain": [
       "<matplotlib.figure.Figure at 0x7f9382bfc0f0>"
      ]
     },
     "metadata": {
      "needs_background": "light"
     },
     "output_type": "display_data"
    },
    {
     "name": "stdout",
     "output_type": "stream",
     "text": [
      "atlantic-1959-debra\n"
     ]
    },
    {
     "data": {
      "image/png": "[encoded data removed]",
      "text/plain": [
       "<matplotlib.figure.Figure at 0x7f9382bf7b00>"
      ]
     },
     "metadata": {
      "needs_background": "light"
     },
     "output_type": "display_data"
    },
    {
     "name": "stdout",
     "output_type": "stream",
     "text": [
      "e_pacific-2014-elida\n"
     ]
    },
    {
     "data": {
      "image/png": "[encoded data removed]",
      "text/plain": [
       "<matplotlib.figure.Figure at 0x7f9382c3df28>"
      ]
     },
     "metadata": {
      "needs_background": "light"
     },
     "output_type": "display_data"
    },
    {
     "name": "stdout",
     "output_type": "stream",
     "text": [
      "atlantic-1959-arlene\n"
     ]
    },
    {
     "data": {
      "image/png": "[encoded data removed]",
      "text/plain": [
       "<matplotlib.figure.Figure at 0x7f945923bfd0>"
      ]
     },
     "metadata": {
      "needs_background": "light"
     },
     "output_type": "display_data"
    }
   ],
   "source": [
    "print('TRAJECTORY OF TOP FIVE SHORTEST HURRICANES')\n",
    "for w in list2 :\n",
    "    la = []\n",
    "    lo = []\n",
    "    for i in range(len(df)) :\n",
    "        if(df['NAME'][i] == w) :\n",
    "            la.append(df['LATITUDE'][i])\n",
    "            lo.append(df['LONGITUDE'][i])\n",
    "    print(w)\n",
    "    plt.plot(la,lo)\n",
    "    plt.show()"
   ]
  },
  {
   "cell_type": "code",
   "execution_count": 132,
   "metadata": {},
   "outputs": [
    {
     "data": {
      "text/html": [
       "<div>\n",
       "<style scoped>\n",
       "    .dataframe tbody tr th:only-of-type {\n",
       "        vertical-align: middle;\n",
       "    }\n",
       "\n",
       "    .dataframe tbody tr th {\n",
       "        vertical-align: top;\n",
       "    }\n",
       "\n",
       "    .dataframe thead th {\n",
       "        text-align: right;\n",
       "    }\n",
       "</style>\n",
       "<table border=\"1\" class=\"dataframe\">\n",
       "  <thead>\n",
       "    <tr style=\"text-align: right;\">\n",
       "      <th></th>\n",
       "      <th>LATITUDE</th>\n",
       "      <th>LONGITUDE</th>\n",
       "      <th>WIND SPEED</th>\n",
       "      <th>PRESSURE</th>\n",
       "      <th>DISTANCE</th>\n",
       "      <th>DIRECTION</th>\n",
       "    </tr>\n",
       "  </thead>\n",
       "  <tbody>\n",
       "    <tr>\n",
       "      <th>count</th>\n",
       "      <td>36144.000000</td>\n",
       "      <td>36144.000000</td>\n",
       "      <td>36144.000000</td>\n",
       "      <td>36144.000000</td>\n",
       "      <td>36144.000000</td>\n",
       "      <td>36144.000000</td>\n",
       "    </tr>\n",
       "    <tr>\n",
       "      <th>mean</th>\n",
       "      <td>22.070775</td>\n",
       "      <td>-39.701433</td>\n",
       "      <td>51.197377</td>\n",
       "      <td>992.367419</td>\n",
       "      <td>74.600901</td>\n",
       "      <td>169.866209</td>\n",
       "    </tr>\n",
       "    <tr>\n",
       "      <th>std</th>\n",
       "      <td>9.295640</td>\n",
       "      <td>94.885876</td>\n",
       "      <td>28.079471</td>\n",
       "      <td>107.977492</td>\n",
       "      <td>69.562502</td>\n",
       "      <td>112.061624</td>\n",
       "    </tr>\n",
       "    <tr>\n",
       "      <th>min</th>\n",
       "      <td>1.300000</td>\n",
       "      <td>-180.000000</td>\n",
       "      <td>10.000000</td>\n",
       "      <td>879.000000</td>\n",
       "      <td>0.000000</td>\n",
       "      <td>0.000000</td>\n",
       "    </tr>\n",
       "    <tr>\n",
       "      <th>25%</th>\n",
       "      <td>15.300000</td>\n",
       "      <td>-108.000000</td>\n",
       "      <td>30.000000</td>\n",
       "      <td>983.000000</td>\n",
       "      <td>39.852789</td>\n",
       "      <td>68.057302</td>\n",
       "    </tr>\n",
       "    <tr>\n",
       "      <th>50%</th>\n",
       "      <td>19.700000</td>\n",
       "      <td>-70.900000</td>\n",
       "      <td>45.000000</td>\n",
       "      <td>999.000000</td>\n",
       "      <td>63.449125</td>\n",
       "      <td>175.359787</td>\n",
       "    </tr>\n",
       "    <tr>\n",
       "      <th>75%</th>\n",
       "      <td>27.600000</td>\n",
       "      <td>-33.000000</td>\n",
       "      <td>65.000000</td>\n",
       "      <td>1006.000000</td>\n",
       "      <td>91.176829</td>\n",
       "      <td>260.206539</td>\n",
       "    </tr>\n",
       "    <tr>\n",
       "      <th>max</th>\n",
       "      <td>69.000000</td>\n",
       "      <td>179.900000</td>\n",
       "      <td>175.000000</td>\n",
       "      <td>9999.000000</td>\n",
       "      <td>2032.990320</td>\n",
       "      <td>359.976595</td>\n",
       "    </tr>\n",
       "  </tbody>\n",
       "</table>\n",
       "</div>"
      ],
      "text/plain": [
       "           LATITUDE     LONGITUDE    WIND SPEED      PRESSURE      DISTANCE  \\\n",
       "count  36144.000000  36144.000000  36144.000000  36144.000000  36144.000000   \n",
       "mean      22.070775    -39.701433     51.197377    992.367419     74.600901   \n",
       "std        9.295640     94.885876     28.079471    107.977492     69.562502   \n",
       "min        1.300000   -180.000000     10.000000    879.000000      0.000000   \n",
       "25%       15.300000   -108.000000     30.000000    983.000000     39.852789   \n",
       "50%       19.700000    -70.900000     45.000000    999.000000     63.449125   \n",
       "75%       27.600000    -33.000000     65.000000   1006.000000     91.176829   \n",
       "max       69.000000    179.900000    175.000000   9999.000000   2032.990320   \n",
       "\n",
       "          DIRECTION  \n",
       "count  36144.000000  \n",
       "mean     169.866209  \n",
       "std      112.061624  \n",
       "min        0.000000  \n",
       "25%       68.057302  \n",
       "50%      175.359787  \n",
       "75%      260.206539  \n",
       "max      359.976595  "
      ]
     },
     "execution_count": 132,
     "metadata": {},
     "output_type": "execute_result"
    }
   ],
   "source": [
    "df.describe()"
   ]
  },
  {
   "cell_type": "code",
   "execution_count": 133,
   "metadata": {},
   "outputs": [
    {
     "data": {
      "text/html": [
       "<div>\n",
       "<style scoped>\n",
       "    .dataframe tbody tr th:only-of-type {\n",
       "        vertical-align: middle;\n",
       "    }\n",
       "\n",
       "    .dataframe tbody tr th {\n",
       "        vertical-align: top;\n",
       "    }\n",
       "\n",
       "    .dataframe thead th {\n",
       "        text-align: right;\n",
       "    }\n",
       "</style>\n",
       "<table border=\"1\" class=\"dataframe\">\n",
       "  <thead>\n",
       "    <tr style=\"text-align: right;\">\n",
       "      <th></th>\n",
       "      <th>LATITUDE</th>\n",
       "      <th>LONGITUDE</th>\n",
       "      <th>TIME</th>\n",
       "      <th>WIND SPEED</th>\n",
       "      <th>PRESSURE</th>\n",
       "      <th>STATUS</th>\n",
       "      <th>NAME</th>\n",
       "      <th>DISTANCE</th>\n",
       "      <th>DIRECTION</th>\n",
       "    </tr>\n",
       "  </thead>\n",
       "  <tbody>\n",
       "    <tr>\n",
       "      <th>0</th>\n",
       "      <td>12.2</td>\n",
       "      <td>-28.9</td>\n",
       "      <td>08/13/06Z</td>\n",
       "      <td>30</td>\n",
       "      <td>1006</td>\n",
       "      <td>TROPICAL DEPRESSION</td>\n",
       "      <td>atlantic-2007-dean</td>\n",
       "      <td>0.000000</td>\n",
       "      <td>0.000000</td>\n",
       "    </tr>\n",
       "    <tr>\n",
       "      <th>1</th>\n",
       "      <td>12.1</td>\n",
       "      <td>-30.7</td>\n",
       "      <td>08/13/12Z</td>\n",
       "      <td>30</td>\n",
       "      <td>1005</td>\n",
       "      <td>TROPICAL DEPRESSION</td>\n",
       "      <td>atlantic-2007-dean</td>\n",
       "      <td>121.778232</td>\n",
       "      <td>256.672702</td>\n",
       "    </tr>\n",
       "    <tr>\n",
       "      <th>2</th>\n",
       "      <td>12.0</td>\n",
       "      <td>-32.4</td>\n",
       "      <td>08/13/18Z</td>\n",
       "      <td>30</td>\n",
       "      <td>1005</td>\n",
       "      <td>TROPICAL DEPRESSION</td>\n",
       "      <td>atlantic-2007-dean</td>\n",
       "      <td>115.078112</td>\n",
       "      <td>245.146827</td>\n",
       "    </tr>\n",
       "    <tr>\n",
       "      <th>3</th>\n",
       "      <td>11.9</td>\n",
       "      <td>-34.5</td>\n",
       "      <td>08/14/00Z</td>\n",
       "      <td>30</td>\n",
       "      <td>1005</td>\n",
       "      <td>TROPICAL DEPRESSION</td>\n",
       "      <td>atlantic-2007-dean</td>\n",
       "      <td>142.119450</td>\n",
       "      <td>311.213457</td>\n",
       "    </tr>\n",
       "    <tr>\n",
       "      <th>4</th>\n",
       "      <td>11.8</td>\n",
       "      <td>-36.5</td>\n",
       "      <td>08/14/06Z</td>\n",
       "      <td>30</td>\n",
       "      <td>1005</td>\n",
       "      <td>TROPICAL DEPRESSION</td>\n",
       "      <td>atlantic-2007-dean</td>\n",
       "      <td>135.417954</td>\n",
       "      <td>272.399960</td>\n",
       "    </tr>\n",
       "  </tbody>\n",
       "</table>\n",
       "</div>"
      ],
      "text/plain": [
       "   LATITUDE  LONGITUDE       TIME  WIND SPEED  PRESSURE               STATUS  \\\n",
       "0      12.2      -28.9  08/13/06Z          30      1006  TROPICAL DEPRESSION   \n",
       "1      12.1      -30.7  08/13/12Z          30      1005  TROPICAL DEPRESSION   \n",
       "2      12.0      -32.4  08/13/18Z          30      1005  TROPICAL DEPRESSION   \n",
       "3      11.9      -34.5  08/14/00Z          30      1005  TROPICAL DEPRESSION   \n",
       "4      11.8      -36.5  08/14/06Z          30      1005  TROPICAL DEPRESSION   \n",
       "\n",
       "                 NAME    DISTANCE   DIRECTION  \n",
       "0  atlantic-2007-dean    0.000000    0.000000  \n",
       "1  atlantic-2007-dean  121.778232  256.672702  \n",
       "2  atlantic-2007-dean  115.078112  245.146827  \n",
       "3  atlantic-2007-dean  142.119450  311.213457  \n",
       "4  atlantic-2007-dean  135.417954  272.399960  "
      ]
     },
     "execution_count": 133,
     "metadata": {},
     "output_type": "execute_result"
    }
   ],
   "source": [
    "df.head()"
   ]
  },
  {
   "cell_type": "code",
   "execution_count": 134,
   "metadata": {},
   "outputs": [
    {
     "data": {
      "image/png": "[encoded data removed]",
      "text/plain": [
       "<matplotlib.figure.Figure at 0x7f93827b69e8>"
      ]
     },
     "metadata": {
      "needs_background": "light"
     },
     "output_type": "display_data"
    }
   ],
   "source": [
    "plt.scatter(df['LATITUDE'],df['LONGITUDE'],s=15)\n",
    "plt.grid()\n",
    "plt.show()"
   ]
  },
  {
   "cell_type": "code",
   "execution_count": 135,
   "metadata": {},
   "outputs": [],
   "source": [
    "month = []\n",
    "day = []\n",
    "hour = []\n",
    "def time_separator(i) :\n",
    "    time = df.loc[i][2].split('/')\n",
    "    month.append(time[0])\n",
    "    day.append(time[1])\n",
    "    hour.append(time[2])\n",
    "    return month, day, hour\n",
    "for i in range(len(df)) :\n",
    "    month, day, hour = time_separator(i)\n",
    "    hour[i] = hour[i][0:2]"
   ]
  },
  {
   "cell_type": "code",
   "execution_count": 136,
   "metadata": {},
   "outputs": [],
   "source": [
    "df.insert(loc = 0, column = 'MONTH', value = month)\n",
    "df.insert(loc = 1, column = 'DAY', value = day)\n",
    "df.insert(loc = 2, column = 'HOUR', value = hour)\n",
    "df.insert(loc =11, column = 'GRID', value = np.zeros((36144)))"
   ]
  },
  {
   "cell_type": "code",
   "execution_count": 137,
   "metadata": {},
   "outputs": [],
   "source": [
    "df['GRID'] = round(abs(df['LATITUDE']) + abs(df['LONGITUDE']))"
   ]
  },
  {
   "cell_type": "code",
   "execution_count": 138,
   "metadata": {},
   "outputs": [
    {
     "data": {
      "text/html": [
       "<div>\n",
       "<style scoped>\n",
       "    .dataframe tbody tr th:only-of-type {\n",
       "        vertical-align: middle;\n",
       "    }\n",
       "\n",
       "    .dataframe tbody tr th {\n",
       "        vertical-align: top;\n",
       "    }\n",
       "\n",
       "    .dataframe thead th {\n",
       "        text-align: right;\n",
       "    }\n",
       "</style>\n",
       "<table border=\"1\" class=\"dataframe\">\n",
       "  <thead>\n",
       "    <tr style=\"text-align: right;\">\n",
       "      <th></th>\n",
       "      <th>MONTH</th>\n",
       "      <th>DAY</th>\n",
       "      <th>HOUR</th>\n",
       "      <th>LATITUDE</th>\n",
       "      <th>LONGITUDE</th>\n",
       "      <th>TIME</th>\n",
       "      <th>WIND SPEED</th>\n",
       "      <th>PRESSURE</th>\n",
       "      <th>STATUS</th>\n",
       "      <th>NAME</th>\n",
       "      <th>DISTANCE</th>\n",
       "      <th>GRID</th>\n",
       "      <th>DIRECTION</th>\n",
       "    </tr>\n",
       "  </thead>\n",
       "  <tbody>\n",
       "    <tr>\n",
       "      <th>0</th>\n",
       "      <td>08</td>\n",
       "      <td>13</td>\n",
       "      <td>06</td>\n",
       "      <td>12.2</td>\n",
       "      <td>-28.9</td>\n",
       "      <td>08/13/06Z</td>\n",
       "      <td>30</td>\n",
       "      <td>1006</td>\n",
       "      <td>TROPICAL DEPRESSION</td>\n",
       "      <td>atlantic-2007-dean</td>\n",
       "      <td>0.000000</td>\n",
       "      <td>41.0</td>\n",
       "      <td>0.000000</td>\n",
       "    </tr>\n",
       "    <tr>\n",
       "      <th>1</th>\n",
       "      <td>08</td>\n",
       "      <td>13</td>\n",
       "      <td>12</td>\n",
       "      <td>12.1</td>\n",
       "      <td>-30.7</td>\n",
       "      <td>08/13/12Z</td>\n",
       "      <td>30</td>\n",
       "      <td>1005</td>\n",
       "      <td>TROPICAL DEPRESSION</td>\n",
       "      <td>atlantic-2007-dean</td>\n",
       "      <td>121.778232</td>\n",
       "      <td>43.0</td>\n",
       "      <td>256.672702</td>\n",
       "    </tr>\n",
       "    <tr>\n",
       "      <th>2</th>\n",
       "      <td>08</td>\n",
       "      <td>13</td>\n",
       "      <td>18</td>\n",
       "      <td>12.0</td>\n",
       "      <td>-32.4</td>\n",
       "      <td>08/13/18Z</td>\n",
       "      <td>30</td>\n",
       "      <td>1005</td>\n",
       "      <td>TROPICAL DEPRESSION</td>\n",
       "      <td>atlantic-2007-dean</td>\n",
       "      <td>115.078112</td>\n",
       "      <td>44.0</td>\n",
       "      <td>245.146827</td>\n",
       "    </tr>\n",
       "    <tr>\n",
       "      <th>3</th>\n",
       "      <td>08</td>\n",
       "      <td>14</td>\n",
       "      <td>00</td>\n",
       "      <td>11.9</td>\n",
       "      <td>-34.5</td>\n",
       "      <td>08/14/00Z</td>\n",
       "      <td>30</td>\n",
       "      <td>1005</td>\n",
       "      <td>TROPICAL DEPRESSION</td>\n",
       "      <td>atlantic-2007-dean</td>\n",
       "      <td>142.119450</td>\n",
       "      <td>46.0</td>\n",
       "      <td>311.213457</td>\n",
       "    </tr>\n",
       "    <tr>\n",
       "      <th>4</th>\n",
       "      <td>08</td>\n",
       "      <td>14</td>\n",
       "      <td>06</td>\n",
       "      <td>11.8</td>\n",
       "      <td>-36.5</td>\n",
       "      <td>08/14/06Z</td>\n",
       "      <td>30</td>\n",
       "      <td>1005</td>\n",
       "      <td>TROPICAL DEPRESSION</td>\n",
       "      <td>atlantic-2007-dean</td>\n",
       "      <td>135.417954</td>\n",
       "      <td>48.0</td>\n",
       "      <td>272.399960</td>\n",
       "    </tr>\n",
       "  </tbody>\n",
       "</table>\n",
       "</div>"
      ],
      "text/plain": [
       "  MONTH DAY HOUR  LATITUDE  LONGITUDE       TIME  WIND SPEED  PRESSURE  \\\n",
       "0    08  13   06      12.2      -28.9  08/13/06Z          30      1006   \n",
       "1    08  13   12      12.1      -30.7  08/13/12Z          30      1005   \n",
       "2    08  13   18      12.0      -32.4  08/13/18Z          30      1005   \n",
       "3    08  14   00      11.9      -34.5  08/14/00Z          30      1005   \n",
       "4    08  14   06      11.8      -36.5  08/14/06Z          30      1005   \n",
       "\n",
       "                STATUS                NAME    DISTANCE  GRID   DIRECTION  \n",
       "0  TROPICAL DEPRESSION  atlantic-2007-dean    0.000000  41.0    0.000000  \n",
       "1  TROPICAL DEPRESSION  atlantic-2007-dean  121.778232  43.0  256.672702  \n",
       "2  TROPICAL DEPRESSION  atlantic-2007-dean  115.078112  44.0  245.146827  \n",
       "3  TROPICAL DEPRESSION  atlantic-2007-dean  142.119450  46.0  311.213457  \n",
       "4  TROPICAL DEPRESSION  atlantic-2007-dean  135.417954  48.0  272.399960  "
      ]
     },
     "execution_count": 138,
     "metadata": {},
     "output_type": "execute_result"
    }
   ],
   "source": [
    "df.head()"
   ]
  },
  {
   "cell_type": "code",
   "execution_count": 139,
   "metadata": {},
   "outputs": [
    {
     "data": {
      "text/html": [
       "<div>\n",
       "<style scoped>\n",
       "    .dataframe tbody tr th:only-of-type {\n",
       "        vertical-align: middle;\n",
       "    }\n",
       "\n",
       "    .dataframe tbody tr th {\n",
       "        vertical-align: top;\n",
       "    }\n",
       "\n",
       "    .dataframe thead th {\n",
       "        text-align: right;\n",
       "    }\n",
       "</style>\n",
       "<table border=\"1\" class=\"dataframe\">\n",
       "  <thead>\n",
       "    <tr style=\"text-align: right;\">\n",
       "      <th></th>\n",
       "      <th>LATITUDE</th>\n",
       "      <th>LONGITUDE</th>\n",
       "      <th>WIND SPEED</th>\n",
       "      <th>PRESSURE</th>\n",
       "      <th>DISTANCE</th>\n",
       "      <th>GRID</th>\n",
       "      <th>DIRECTION</th>\n",
       "    </tr>\n",
       "  </thead>\n",
       "  <tbody>\n",
       "    <tr>\n",
       "      <th>count</th>\n",
       "      <td>36144.000000</td>\n",
       "      <td>36144.000000</td>\n",
       "      <td>36144.000000</td>\n",
       "      <td>36144.000000</td>\n",
       "      <td>36144.000000</td>\n",
       "      <td>36144.000000</td>\n",
       "      <td>36144.000000</td>\n",
       "    </tr>\n",
       "    <tr>\n",
       "      <th>mean</th>\n",
       "      <td>22.070775</td>\n",
       "      <td>-39.701433</td>\n",
       "      <td>51.197377</td>\n",
       "      <td>992.367419</td>\n",
       "      <td>74.600901</td>\n",
       "      <td>118.255229</td>\n",
       "      <td>169.866209</td>\n",
       "    </tr>\n",
       "    <tr>\n",
       "      <th>std</th>\n",
       "      <td>9.295640</td>\n",
       "      <td>94.885876</td>\n",
       "      <td>28.079471</td>\n",
       "      <td>107.977492</td>\n",
       "      <td>69.562502</td>\n",
       "      <td>33.647364</td>\n",
       "      <td>112.061624</td>\n",
       "    </tr>\n",
       "    <tr>\n",
       "      <th>min</th>\n",
       "      <td>1.300000</td>\n",
       "      <td>-180.000000</td>\n",
       "      <td>10.000000</td>\n",
       "      <td>879.000000</td>\n",
       "      <td>0.000000</td>\n",
       "      <td>26.000000</td>\n",
       "      <td>0.000000</td>\n",
       "    </tr>\n",
       "    <tr>\n",
       "      <th>25%</th>\n",
       "      <td>15.300000</td>\n",
       "      <td>-108.000000</td>\n",
       "      <td>30.000000</td>\n",
       "      <td>983.000000</td>\n",
       "      <td>39.852789</td>\n",
       "      <td>95.000000</td>\n",
       "      <td>68.057302</td>\n",
       "    </tr>\n",
       "    <tr>\n",
       "      <th>50%</th>\n",
       "      <td>19.700000</td>\n",
       "      <td>-70.900000</td>\n",
       "      <td>45.000000</td>\n",
       "      <td>999.000000</td>\n",
       "      <td>63.449125</td>\n",
       "      <td>121.000000</td>\n",
       "      <td>175.359787</td>\n",
       "    </tr>\n",
       "    <tr>\n",
       "      <th>75%</th>\n",
       "      <td>27.600000</td>\n",
       "      <td>-33.000000</td>\n",
       "      <td>65.000000</td>\n",
       "      <td>1006.000000</td>\n",
       "      <td>91.176829</td>\n",
       "      <td>143.000000</td>\n",
       "      <td>260.206539</td>\n",
       "    </tr>\n",
       "    <tr>\n",
       "      <th>max</th>\n",
       "      <td>69.000000</td>\n",
       "      <td>179.900000</td>\n",
       "      <td>175.000000</td>\n",
       "      <td>9999.000000</td>\n",
       "      <td>2032.990320</td>\n",
       "      <td>216.000000</td>\n",
       "      <td>359.976595</td>\n",
       "    </tr>\n",
       "  </tbody>\n",
       "</table>\n",
       "</div>"
      ],
      "text/plain": [
       "           LATITUDE     LONGITUDE    WIND SPEED      PRESSURE      DISTANCE  \\\n",
       "count  36144.000000  36144.000000  36144.000000  36144.000000  36144.000000   \n",
       "mean      22.070775    -39.701433     51.197377    992.367419     74.600901   \n",
       "std        9.295640     94.885876     28.079471    107.977492     69.562502   \n",
       "min        1.300000   -180.000000     10.000000    879.000000      0.000000   \n",
       "25%       15.300000   -108.000000     30.000000    983.000000     39.852789   \n",
       "50%       19.700000    -70.900000     45.000000    999.000000     63.449125   \n",
       "75%       27.600000    -33.000000     65.000000   1006.000000     91.176829   \n",
       "max       69.000000    179.900000    175.000000   9999.000000   2032.990320   \n",
       "\n",
       "               GRID     DIRECTION  \n",
       "count  36144.000000  36144.000000  \n",
       "mean     118.255229    169.866209  \n",
       "std       33.647364    112.061624  \n",
       "min       26.000000      0.000000  \n",
       "25%       95.000000     68.057302  \n",
       "50%      121.000000    175.359787  \n",
       "75%      143.000000    260.206539  \n",
       "max      216.000000    359.976595  "
      ]
     },
     "execution_count": 139,
     "metadata": {},
     "output_type": "execute_result"
    }
   ],
   "source": [
    "df.to_csv('dataset.csv')\n",
    "df.describe()"
   ]
  },
  {
   "cell_type": "code",
   "execution_count": 140,
   "metadata": {},
   "outputs": [
    {
     "name": "stdout",
     "output_type": "stream",
     "text": [
      "36.608882521489974\n",
      "Number of unique hurricanes =  698\n"
     ]
    },
    {
     "data": {
      "image/png": "[encoded data removed]",
      "text/plain": [
       "<matplotlib.figure.Figure at 0x7f9382270b70>"
      ]
     },
     "metadata": {
      "needs_background": "light"
     },
     "output_type": "display_data"
    },
    {
     "name": "stdout",
     "output_type": "stream",
     "text": [
      "25553\n"
     ]
    },
    {
     "data": {
      "text/html": [
       "<div>\n",
       "<style scoped>\n",
       "    .dataframe tbody tr th:only-of-type {\n",
       "        vertical-align: middle;\n",
       "    }\n",
       "\n",
       "    .dataframe tbody tr th {\n",
       "        vertical-align: top;\n",
       "    }\n",
       "\n",
       "    .dataframe thead th {\n",
       "        text-align: right;\n",
       "    }\n",
       "</style>\n",
       "<table border=\"1\" class=\"dataframe\">\n",
       "  <thead>\n",
       "    <tr style=\"text-align: right;\">\n",
       "      <th></th>\n",
       "      <th>0</th>\n",
       "    </tr>\n",
       "  </thead>\n",
       "  <tbody>\n",
       "    <tr>\n",
       "      <th>count</th>\n",
       "      <td>698.000000</td>\n",
       "    </tr>\n",
       "    <tr>\n",
       "      <th>mean</th>\n",
       "      <td>36.608883</td>\n",
       "    </tr>\n",
       "    <tr>\n",
       "      <th>std</th>\n",
       "      <td>12.729400</td>\n",
       "    </tr>\n",
       "    <tr>\n",
       "      <th>min</th>\n",
       "      <td>22.000000</td>\n",
       "    </tr>\n",
       "    <tr>\n",
       "      <th>25%</th>\n",
       "      <td>27.000000</td>\n",
       "    </tr>\n",
       "    <tr>\n",
       "      <th>50%</th>\n",
       "      <td>33.000000</td>\n",
       "    </tr>\n",
       "    <tr>\n",
       "      <th>75%</th>\n",
       "      <td>43.000000</td>\n",
       "    </tr>\n",
       "    <tr>\n",
       "      <th>max</th>\n",
       "      <td>98.000000</td>\n",
       "    </tr>\n",
       "  </tbody>\n",
       "</table>\n",
       "</div>"
      ],
      "text/plain": [
       "                0\n",
       "count  698.000000\n",
       "mean    36.608883\n",
       "std     12.729400\n",
       "min     22.000000\n",
       "25%     27.000000\n",
       "50%     33.000000\n",
       "75%     43.000000\n",
       "max     98.000000"
      ]
     },
     "execution_count": 140,
     "metadata": {},
     "output_type": "execute_result"
    }
   ],
   "source": [
    "df1 = df[:]\n",
    "df1 = (df1[df1['DISTANCE'] > 0]).reset_index(drop = True)\n",
    "df1 = (df1[df1['DIRECTION'] > 0]).reset_index(drop = True)\n",
    "num = []\n",
    "def number_points(hurricane_name) :\n",
    "    amount = []\n",
    "    amount += [1 for w in df1['NAME'] if(w == hurricane_name)]\n",
    "    return len(amount)\n",
    "for w in unique_hurricanes :\n",
    "    flag = 0\n",
    "    if(number_points(w) < 22) :\n",
    "        df1 = df1[df1['NAME'] != w]\n",
    "        flag = 1\n",
    "    if(flag == 0) :\n",
    "        num.append(number_points(w))\n",
    "\n",
    "print(np.mean(num))        \n",
    "        \n",
    "df1.reset_index(drop = True, inplace = True)\n",
    "\n",
    "print('Number of unique hurricanes = ',len(df1['NAME'].unique()))\n",
    "bins = np.linspace(0,80, num = 10)\n",
    "plt.hist(num, bins, color = 'r', rwidth = 0.9)\n",
    "plt.show()\n",
    "print(len(df1))\n",
    "num_df = pd.DataFrame(num)\n",
    "num_df.describe()"
   ]
  },
  {
   "cell_type": "code",
   "execution_count": 141,
   "metadata": {},
   "outputs": [],
   "source": [
    "df1.drop(['LATITUDE', 'LONGITUDE', 'MONTH', 'DAY', 'HOUR', 'TIME', 'STATUS', 'NAME'], axis = 1, inplace = True)"
   ]
  },
  {
   "cell_type": "code",
   "execution_count": 142,
   "metadata": {},
   "outputs": [
    {
     "data": {
      "text/html": [
       "<div>\n",
       "<style scoped>\n",
       "    .dataframe tbody tr th:only-of-type {\n",
       "        vertical-align: middle;\n",
       "    }\n",
       "\n",
       "    .dataframe tbody tr th {\n",
       "        vertical-align: top;\n",
       "    }\n",
       "\n",
       "    .dataframe thead th {\n",
       "        text-align: right;\n",
       "    }\n",
       "</style>\n",
       "<table border=\"1\" class=\"dataframe\">\n",
       "  <thead>\n",
       "    <tr style=\"text-align: right;\">\n",
       "      <th></th>\n",
       "      <th>WIND SPEED</th>\n",
       "      <th>PRESSURE</th>\n",
       "      <th>DISTANCE</th>\n",
       "      <th>GRID</th>\n",
       "      <th>DIRECTION</th>\n",
       "    </tr>\n",
       "  </thead>\n",
       "  <tbody>\n",
       "    <tr>\n",
       "      <th>0</th>\n",
       "      <td>0.181818</td>\n",
       "      <td>0.981445</td>\n",
       "      <td>0.077870</td>\n",
       "      <td>0.199074</td>\n",
       "      <td>0.713026</td>\n",
       "    </tr>\n",
       "    <tr>\n",
       "      <th>1</th>\n",
       "      <td>0.181818</td>\n",
       "      <td>0.981445</td>\n",
       "      <td>0.073585</td>\n",
       "      <td>0.203704</td>\n",
       "      <td>0.681008</td>\n",
       "    </tr>\n",
       "    <tr>\n",
       "      <th>2</th>\n",
       "      <td>0.181818</td>\n",
       "      <td>0.981445</td>\n",
       "      <td>0.090877</td>\n",
       "      <td>0.212963</td>\n",
       "      <td>0.864538</td>\n",
       "    </tr>\n",
       "    <tr>\n",
       "      <th>3</th>\n",
       "      <td>0.181818</td>\n",
       "      <td>0.981445</td>\n",
       "      <td>0.086592</td>\n",
       "      <td>0.222222</td>\n",
       "      <td>0.756716</td>\n",
       "    </tr>\n",
       "    <tr>\n",
       "      <th>4</th>\n",
       "      <td>0.212121</td>\n",
       "      <td>0.980469</td>\n",
       "      <td>0.077845</td>\n",
       "      <td>0.231481</td>\n",
       "      <td>0.629351</td>\n",
       "    </tr>\n",
       "  </tbody>\n",
       "</table>\n",
       "</div>"
      ],
      "text/plain": [
       "   WIND SPEED  PRESSURE  DISTANCE      GRID  DIRECTION\n",
       "0    0.181818  0.981445  0.077870  0.199074   0.713026\n",
       "1    0.181818  0.981445  0.073585  0.203704   0.681008\n",
       "2    0.181818  0.981445  0.090877  0.212963   0.864538\n",
       "3    0.181818  0.981445  0.086592  0.222222   0.756716\n",
       "4    0.212121  0.980469  0.077845  0.231481   0.629351"
      ]
     },
     "execution_count": 142,
     "metadata": {},
     "output_type": "execute_result"
    }
   ],
   "source": [
    "df2 = df1[:]\n",
    "df2['WIND SPEED'] = df2['WIND SPEED'] / 165.000000\n",
    "df2['PRESSURE'] = df2['PRESSURE'] / 1024.000000\n",
    "df2['DISTANCE'] = df2['DISTANCE'] / 1563.869643\n",
    "df2['GRID'] = df2['GRID'] / 216.000000\n",
    "df2['DIRECTION'] = df2['DIRECTION'] / 359.976595\n",
    "df2.head()"
   ]
  },
  {
   "cell_type": "code",
   "execution_count": 205,
   "metadata": {},
   "outputs": [],
   "source": [
    "df2 = np.array(df2)\n",
    "timestep = 30\n",
    "X_train = []\n",
    "y_train = []\n",
    "X_test = []\n",
    "y_test = []\n",
    "train = df2[0:round(len(df2)*0.8)]\n",
    "test = df2[round(len(df1)*0.8) :]\n",
    "for i in range(len(train) - timestep + 1) :\n",
    "    X_train.append(train[i:i+timestep-1])\n",
    "    y_train.append(train[i+timestep-1][4])\n",
    "for i in range(len(test) - timestep + 1) :\n",
    "    X_test.append(test[i:i+timestep-1])\n",
    "    y_test.append(test[i+timestep-1][4])\n",
    "X_train = np.reshape(X_train, (20413, 29, 5))\n",
    "y_train = np.array(y_train)\n",
    "X_test = np.reshape(X_test, (5082, 29, 5))\n",
    "y_test = np.array(y_test)"
   ]
  },
  {
   "cell_type": "code",
   "execution_count": 145,
   "metadata": {},
   "outputs": [
    {
     "name": "stdout",
     "output_type": "stream",
     "text": [
      "(20413, 29, 5)\n",
      "(20413,)\n",
      "(5082, 29, 5)\n",
      "(5082,)\n"
     ]
    }
   ],
   "source": [
    "print(X_train.shape)\n",
    "print(y_train.shape)\n",
    "print(X_test.shape)\n",
    "print(y_test.shape)"
   ]
  },
  {
   "cell_type": "code",
   "execution_count": 146,
   "metadata": {},
   "outputs": [],
   "source": [
    "from keras.models import Sequential\n",
    "from keras.layers import Dense, Activation, Dropout, LSTM"
   ]
  },
  {
   "cell_type": "code",
   "execution_count": 178,
   "metadata": {},
   "outputs": [
    {
     "name": "stdout",
     "output_type": "stream",
     "text": [
      "Train on 18371 samples, validate on 2042 samples\n",
      "Epoch 1/100\n",
      "18371/18371 [==============================] - 27s 1ms/step - loss: 0.1083 - acc: 0.0000e+00 - val_loss: 0.0899 - val_acc: 0.0000e+00\n",
      "Epoch 2/100\n",
      "18371/18371 [==============================] - 21s 1ms/step - loss: 0.0889 - acc: 5.4434e-05 - val_loss: 0.0907 - val_acc: 0.0000e+00\n",
      "Epoch 3/100\n",
      "18371/18371 [==============================] - 22s 1ms/step - loss: 0.0878 - acc: 0.0000e+00 - val_loss: 0.0885 - val_acc: 0.0000e+00\n",
      "Epoch 4/100\n",
      "18371/18371 [==============================] - 21s 1ms/step - loss: 0.0854 - acc: 5.4434e-05 - val_loss: 0.0852 - val_acc: 0.0000e+00\n",
      "Epoch 5/100\n",
      "18371/18371 [==============================] - 21s 1ms/step - loss: 0.0790 - acc: 5.4434e-05 - val_loss: 0.0753 - val_acc: 0.0000e+00\n",
      "Epoch 6/100\n",
      "18371/18371 [==============================] - 21s 1ms/step - loss: 0.0711 - acc: 5.4434e-05 - val_loss: 0.0699 - val_acc: 0.0000e+00\n",
      "Epoch 7/100\n",
      "18371/18371 [==============================] - 21s 1ms/step - loss: 0.0688 - acc: 5.4434e-05 - val_loss: 0.0698 - val_acc: 0.0000e+00\n",
      "Epoch 8/100\n",
      "18371/18371 [==============================] - 21s 1ms/step - loss: 0.0676 - acc: 5.4434e-05 - val_loss: 0.0700 - val_acc: 0.0000e+00\n",
      "Epoch 9/100\n",
      "18371/18371 [==============================] - 21s 1ms/step - loss: 0.0684 - acc: 5.4434e-05 - val_loss: 0.0699 - val_acc: 0.0000e+00\n",
      "Epoch 10/100\n",
      "18371/18371 [==============================] - 21s 1ms/step - loss: 0.0669 - acc: 5.4434e-05 - val_loss: 0.0697 - val_acc: 0.0000e+00\n",
      "Epoch 11/100\n",
      "18371/18371 [==============================] - 22s 1ms/step - loss: 0.0670 - acc: 5.4434e-05 - val_loss: 0.0700 - val_acc: 0.0000e+00\n",
      "Epoch 12/100\n",
      "18371/18371 [==============================] - 21s 1ms/step - loss: 0.0672 - acc: 5.4434e-05 - val_loss: 0.0698 - val_acc: 0.0000e+00\n",
      "Epoch 13/100\n",
      "18371/18371 [==============================] - 21s 1ms/step - loss: 0.0666 - acc: 5.4434e-05 - val_loss: 0.0698 - val_acc: 0.0000e+00\n",
      "Epoch 14/100\n",
      "18371/18371 [==============================] - 21s 1ms/step - loss: 0.0664 - acc: 5.4434e-05 - val_loss: 0.0697 - val_acc: 0.0000e+00\n",
      "Epoch 15/100\n",
      "18371/18371 [==============================] - 21s 1ms/step - loss: 0.0664 - acc: 5.4434e-05 - val_loss: 0.0697 - val_acc: 0.0000e+00\n",
      "Epoch 16/100\n",
      "18371/18371 [==============================] - 21s 1ms/step - loss: 0.0662 - acc: 5.4434e-05 - val_loss: 0.0702 - val_acc: 0.0000e+00\n",
      "Epoch 17/100\n",
      "18371/18371 [==============================] - 21s 1ms/step - loss: 0.0665 - acc: 5.4434e-05 - val_loss: 0.0695 - val_acc: 0.0000e+00\n",
      "Epoch 18/100\n",
      "18371/18371 [==============================] - 23s 1ms/step - loss: 0.0664 - acc: 5.4434e-05 - val_loss: 0.0700 - val_acc: 0.0000e+00\n",
      "Epoch 19/100\n",
      "18371/18371 [==============================] - 21s 1ms/step - loss: 0.0665 - acc: 5.4434e-05 - val_loss: 0.0702 - val_acc: 0.0000e+00\n",
      "Epoch 20/100\n",
      "18371/18371 [==============================] - 22s 1ms/step - loss: 0.0663 - acc: 5.4434e-05 - val_loss: 0.0699 - val_acc: 0.0000e+00\n",
      "Epoch 21/100\n",
      "18371/18371 [==============================] - 23s 1ms/step - loss: 0.0661 - acc: 5.4434e-05 - val_loss: 0.0697 - val_acc: 0.0000e+00\n",
      "Epoch 22/100\n",
      "18371/18371 [==============================] - 21s 1ms/step - loss: 0.0659 - acc: 5.4434e-05 - val_loss: 0.0695 - val_acc: 0.0000e+00\n",
      "Epoch 23/100\n",
      "18371/18371 [==============================] - 22s 1ms/step - loss: 0.0659 - acc: 5.4434e-05 - val_loss: 0.0696 - val_acc: 0.0000e+00\n",
      "Epoch 24/100\n",
      "18371/18371 [==============================] - 21s 1ms/step - loss: 0.0660 - acc: 5.4434e-05 - val_loss: 0.0696 - val_acc: 0.0000e+00\n",
      "Epoch 25/100\n",
      "18371/18371 [==============================] - 21s 1ms/step - loss: 0.0659 - acc: 5.4434e-05 - val_loss: 0.0700 - val_acc: 0.0000e+00\n",
      "Epoch 26/100\n",
      "18371/18371 [==============================] - 21s 1ms/step - loss: 0.0660 - acc: 5.4434e-05 - val_loss: 0.0692 - val_acc: 0.0000e+00\n",
      "Epoch 27/100\n",
      "18371/18371 [==============================] - 21s 1ms/step - loss: 0.0661 - acc: 5.4434e-05 - val_loss: 0.0697 - val_acc: 0.0000e+00\n",
      "Epoch 28/100\n",
      "18371/18371 [==============================] - 21s 1ms/step - loss: 0.0657 - acc: 5.4434e-05 - val_loss: 0.0693 - val_acc: 0.0000e+00\n",
      "Epoch 29/100\n",
      "18371/18371 [==============================] - 21s 1ms/step - loss: 0.0658 - acc: 5.4434e-05 - val_loss: 0.0703 - val_acc: 0.0000e+00\n",
      "Epoch 30/100\n",
      "18371/18371 [==============================] - 21s 1ms/step - loss: 0.0655 - acc: 5.4434e-05 - val_loss: 0.0693 - val_acc: 0.0000e+00\n",
      "Epoch 31/100\n",
      "18371/18371 [==============================] - 21s 1ms/step - loss: 0.0657 - acc: 5.4434e-05 - val_loss: 0.0699 - val_acc: 0.0000e+00\n",
      "Epoch 32/100\n",
      "18371/18371 [==============================] - 21s 1ms/step - loss: 0.0663 - acc: 5.4434e-05 - val_loss: 0.0697 - val_acc: 0.0000e+00\n",
      "Epoch 33/100\n",
      "18371/18371 [==============================] - 21s 1ms/step - loss: 0.0653 - acc: 5.4434e-05 - val_loss: 0.0693 - val_acc: 0.0000e+00\n",
      "Epoch 34/100\n",
      "18371/18371 [==============================] - 21s 1ms/step - loss: 0.0656 - acc: 5.4434e-05 - val_loss: 0.0690 - val_acc: 0.0000e+00\n",
      "Epoch 35/100\n",
      "18371/18371 [==============================] - 21s 1ms/step - loss: 0.0655 - acc: 5.4434e-05 - val_loss: 0.0694 - val_acc: 0.0000e+00\n",
      "Epoch 36/100\n",
      "18371/18371 [==============================] - 22s 1ms/step - loss: 0.0658 - acc: 5.4434e-05 - val_loss: 0.0695 - val_acc: 0.0000e+00\n",
      "Epoch 37/100\n",
      "18371/18371 [==============================] - 21s 1ms/step - loss: 0.0653 - acc: 5.4434e-05 - val_loss: 0.0691 - val_acc: 0.0000e+00\n",
      "Epoch 38/100\n",
      "18371/18371 [==============================] - 21s 1ms/step - loss: 0.0651 - acc: 5.4434e-05 - val_loss: 0.0696 - val_acc: 0.0000e+00\n",
      "Epoch 39/100\n",
      "18371/18371 [==============================] - 21s 1ms/step - loss: 0.0654 - acc: 5.4434e-05 - val_loss: 0.0690 - val_acc: 0.0000e+00\n",
      "Epoch 40/100\n",
      "18371/18371 [==============================] - 21s 1ms/step - loss: 0.0650 - acc: 5.4434e-05 - val_loss: 0.0692 - val_acc: 0.0000e+00\n",
      "Epoch 41/100\n",
      "18371/18371 [==============================] - 21s 1ms/step - loss: 0.0652 - acc: 5.4434e-05 - val_loss: 0.0691 - val_acc: 0.0000e+00\n",
      "Epoch 42/100\n",
      "18371/18371 [==============================] - 21s 1ms/step - loss: 0.0654 - acc: 5.4434e-05 - val_loss: 0.0688 - val_acc: 0.0000e+00\n",
      "Epoch 43/100\n",
      "18371/18371 [==============================] - 21s 1ms/step - loss: 0.0652 - acc: 5.4434e-05 - val_loss: 0.0690 - val_acc: 0.0000e+00\n",
      "Epoch 44/100\n",
      "18371/18371 [==============================] - 21s 1ms/step - loss: 0.0653 - acc: 5.4434e-05 - val_loss: 0.0691 - val_acc: 0.0000e+00\n",
      "Epoch 45/100\n",
      "18371/18371 [==============================] - 21s 1ms/step - loss: 0.0648 - acc: 5.4434e-05 - val_loss: 0.0689 - val_acc: 0.0000e+00\n",
      "Epoch 46/100\n",
      "18371/18371 [==============================] - 21s 1ms/step - loss: 0.0647 - acc: 5.4434e-05 - val_loss: 0.0685 - val_acc: 0.0000e+00\n",
      "Epoch 47/100\n",
      "18371/18371 [==============================] - 21s 1ms/step - loss: 0.0647 - acc: 5.4434e-05 - val_loss: 0.0685 - val_acc: 0.0000e+00\n",
      "Epoch 48/100\n",
      "18371/18371 [==============================] - 21s 1ms/step - loss: 0.0646 - acc: 5.4434e-05 - val_loss: 0.0685 - val_acc: 0.0000e+00\n",
      "Epoch 49/100\n",
      "18371/18371 [==============================] - 21s 1ms/step - loss: 0.0642 - acc: 5.4434e-05 - val_loss: 0.0679 - val_acc: 0.0000e+00\n",
      "Epoch 50/100\n",
      "18371/18371 [==============================] - 21s 1ms/step - loss: 0.0638 - acc: 5.4434e-05 - val_loss: 0.0676 - val_acc: 0.0000e+00\n",
      "Epoch 51/100\n",
      "18371/18371 [==============================] - 21s 1ms/step - loss: 0.0638 - acc: 5.4434e-05 - val_loss: 0.0668 - val_acc: 0.0000e+00\n",
      "Epoch 52/100\n",
      "18371/18371 [==============================] - 21s 1ms/step - loss: 0.0628 - acc: 5.4434e-05 - val_loss: 0.0662 - val_acc: 0.0000e+00\n",
      "Epoch 53/100\n",
      "18371/18371 [==============================] - 21s 1ms/step - loss: 0.0618 - acc: 5.4434e-05 - val_loss: 0.0647 - val_acc: 0.0000e+00\n",
      "Epoch 54/100\n",
      "18371/18371 [==============================] - 21s 1ms/step - loss: 0.0608 - acc: 5.4434e-05 - val_loss: 0.0641 - val_acc: 0.0000e+00\n",
      "Epoch 55/100\n",
      "18371/18371 [==============================] - 21s 1ms/step - loss: 0.0602 - acc: 5.4434e-05 - val_loss: 0.0628 - val_acc: 0.0000e+00\n",
      "Epoch 56/100\n"
     ]
    },
    {
     "name": "stdout",
     "output_type": "stream",
     "text": [
      "18371/18371 [==============================] - 21s 1ms/step - loss: 0.0602 - acc: 5.4434e-05 - val_loss: 0.0627 - val_acc: 0.0000e+00\n",
      "Epoch 57/100\n",
      "18371/18371 [==============================] - 21s 1ms/step - loss: 0.0593 - acc: 5.4434e-05 - val_loss: 0.0621 - val_acc: 0.0000e+00\n",
      "Epoch 58/100\n",
      "18371/18371 [==============================] - 21s 1ms/step - loss: 0.0590 - acc: 5.4434e-05 - val_loss: 0.0618 - val_acc: 0.0000e+00\n",
      "Epoch 59/100\n",
      "18371/18371 [==============================] - 21s 1ms/step - loss: 0.0589 - acc: 5.4434e-05 - val_loss: 0.0619 - val_acc: 0.0000e+00\n",
      "Epoch 60/100\n",
      "18371/18371 [==============================] - 21s 1ms/step - loss: 0.0586 - acc: 5.4434e-05 - val_loss: 0.0614 - val_acc: 0.0000e+00\n",
      "Epoch 61/100\n",
      "18371/18371 [==============================] - 21s 1ms/step - loss: 0.0588 - acc: 5.4434e-05 - val_loss: 0.0616 - val_acc: 0.0000e+00\n",
      "Epoch 62/100\n",
      "18371/18371 [==============================] - 21s 1ms/step - loss: 0.0583 - acc: 5.4434e-05 - val_loss: 0.0614 - val_acc: 0.0000e+00\n",
      "Epoch 63/100\n",
      "18371/18371 [==============================] - 21s 1ms/step - loss: 0.0582 - acc: 5.4434e-05 - val_loss: 0.0615 - val_acc: 0.0000e+00\n",
      "Epoch 64/100\n",
      "18371/18371 [==============================] - 21s 1ms/step - loss: 0.0578 - acc: 5.4434e-05 - val_loss: 0.0603 - val_acc: 0.0000e+00\n",
      "Epoch 65/100\n",
      "18371/18371 [==============================] - 21s 1ms/step - loss: 0.0573 - acc: 5.4434e-05 - val_loss: 0.0602 - val_acc: 0.0000e+00\n",
      "Epoch 66/100\n",
      "18371/18371 [==============================] - 21s 1ms/step - loss: 0.0573 - acc: 5.4434e-05 - val_loss: 0.0605 - val_acc: 0.0000e+00\n",
      "Epoch 67/100\n",
      "18371/18371 [==============================] - 21s 1ms/step - loss: 0.0571 - acc: 5.4434e-05 - val_loss: 0.0608 - val_acc: 0.0000e+00\n",
      "Epoch 68/100\n",
      "18371/18371 [==============================] - 21s 1ms/step - loss: 0.0571 - acc: 5.4434e-05 - val_loss: 0.0598 - val_acc: 0.0000e+00\n",
      "Epoch 69/100\n",
      "18371/18371 [==============================] - 21s 1ms/step - loss: 0.0571 - acc: 5.4434e-05 - val_loss: 0.0613 - val_acc: 0.0000e+00\n",
      "Epoch 70/100\n",
      "18371/18371 [==============================] - 21s 1ms/step - loss: 0.0569 - acc: 5.4434e-05 - val_loss: 0.0601 - val_acc: 0.0000e+00\n",
      "Epoch 71/100\n",
      "18371/18371 [==============================] - 21s 1ms/step - loss: 0.0569 - acc: 5.4434e-05 - val_loss: 0.0598 - val_acc: 0.0000e+00\n",
      "Epoch 72/100\n",
      "18371/18371 [==============================] - 21s 1ms/step - loss: 0.0570 - acc: 5.4434e-05 - val_loss: 0.0594 - val_acc: 0.0000e+00\n",
      "Epoch 73/100\n",
      "18371/18371 [==============================] - 21s 1ms/step - loss: 0.0563 - acc: 5.4434e-05 - val_loss: 0.0598 - val_acc: 0.0000e+00\n",
      "Epoch 74/100\n",
      "18371/18371 [==============================] - 21s 1ms/step - loss: 0.0561 - acc: 5.4434e-05 - val_loss: 0.0592 - val_acc: 0.0000e+00\n",
      "Epoch 75/100\n",
      "18371/18371 [==============================] - 21s 1ms/step - loss: 0.0561 - acc: 5.4434e-05 - val_loss: 0.0596 - val_acc: 0.0000e+00\n",
      "Epoch 76/100\n",
      "18371/18371 [==============================] - 21s 1ms/step - loss: 0.0560 - acc: 5.4434e-05 - val_loss: 0.0593 - val_acc: 0.0000e+00\n",
      "Epoch 77/100\n",
      "18371/18371 [==============================] - 21s 1ms/step - loss: 0.0558 - acc: 5.4434e-05 - val_loss: 0.0588 - val_acc: 0.0000e+00\n",
      "Epoch 78/100\n",
      "18371/18371 [==============================] - 21s 1ms/step - loss: 0.0556 - acc: 5.4434e-05 - val_loss: 0.0587 - val_acc: 0.0000e+00\n",
      "Epoch 79/100\n",
      "18371/18371 [==============================] - 21s 1ms/step - loss: 0.0553 - acc: 5.4434e-05 - val_loss: 0.0584 - val_acc: 0.0000e+00\n",
      "Epoch 80/100\n",
      "18371/18371 [==============================] - 22s 1ms/step - loss: 0.0552 - acc: 5.4434e-05 - val_loss: 0.0588 - val_acc: 0.0000e+00\n",
      "Epoch 81/100\n",
      "18371/18371 [==============================] - 23s 1ms/step - loss: 0.0554 - acc: 5.4434e-05 - val_loss: 0.0587 - val_acc: 0.0000e+00\n",
      "Epoch 82/100\n",
      "18371/18371 [==============================] - 22s 1ms/step - loss: 0.0555 - acc: 5.4434e-05 - val_loss: 0.0584 - val_acc: 0.0000e+00\n",
      "Epoch 83/100\n",
      "18371/18371 [==============================] - 24s 1ms/step - loss: 0.0548 - acc: 5.4434e-05 - val_loss: 0.0585 - val_acc: 0.0000e+00\n",
      "Epoch 84/100\n",
      "18371/18371 [==============================] - 22s 1ms/step - loss: 0.0547 - acc: 5.4434e-05 - val_loss: 0.0587 - val_acc: 0.0000e+00\n",
      "Epoch 85/100\n",
      "18371/18371 [==============================] - 22s 1ms/step - loss: 0.0547 - acc: 5.4434e-05 - val_loss: 0.0581 - val_acc: 0.0000e+00\n",
      "Epoch 86/100\n",
      "18371/18371 [==============================] - 21s 1ms/step - loss: 0.0544 - acc: 5.4434e-05 - val_loss: 0.0586 - val_acc: 0.0000e+00\n",
      "Epoch 87/100\n",
      "18371/18371 [==============================] - 21s 1ms/step - loss: 0.0545 - acc: 5.4434e-05 - val_loss: 0.0580 - val_acc: 0.0000e+00\n",
      "Epoch 88/100\n",
      "18371/18371 [==============================] - 21s 1ms/step - loss: 0.0543 - acc: 5.4434e-05 - val_loss: 0.0586 - val_acc: 0.0000e+00\n",
      "Epoch 89/100\n",
      "18371/18371 [==============================] - 21s 1ms/step - loss: 0.0537 - acc: 5.4434e-05 - val_loss: 0.0588 - val_acc: 0.0000e+00\n",
      "Epoch 90/100\n",
      "18371/18371 [==============================] - 21s 1ms/step - loss: 0.0543 - acc: 5.4434e-05 - val_loss: 0.0578 - val_acc: 0.0000e+00\n",
      "Epoch 91/100\n",
      "18371/18371 [==============================] - 21s 1ms/step - loss: 0.0541 - acc: 5.4434e-05 - val_loss: 0.0578 - val_acc: 0.0000e+00\n",
      "Epoch 92/100\n",
      "18371/18371 [==============================] - 21s 1ms/step - loss: 0.0540 - acc: 5.4434e-05 - val_loss: 0.0579 - val_acc: 0.0000e+00\n",
      "Epoch 93/100\n",
      "18371/18371 [==============================] - 22s 1ms/step - loss: 0.0535 - acc: 5.4434e-05 - val_loss: 0.0583 - val_acc: 0.0000e+00\n",
      "Epoch 94/100\n",
      "18371/18371 [==============================] - 21s 1ms/step - loss: 0.0534 - acc: 5.4434e-05 - val_loss: 0.0584 - val_acc: 0.0000e+00\n",
      "Epoch 95/100\n",
      "18371/18371 [==============================] - 21s 1ms/step - loss: 0.0532 - acc: 5.4434e-05 - val_loss: 0.0581 - val_acc: 0.0000e+00\n",
      "Epoch 96/100\n",
      "18371/18371 [==============================] - 22s 1ms/step - loss: 0.0530 - acc: 5.4434e-05 - val_loss: 0.0585 - val_acc: 0.0000e+00\n",
      "Epoch 97/100\n",
      "18371/18371 [==============================] - 21s 1ms/step - loss: 0.0531 - acc: 5.4434e-05 - val_loss: 0.0583 - val_acc: 0.0000e+00\n",
      "Epoch 98/100\n",
      "18371/18371 [==============================] - 21s 1ms/step - loss: 0.0528 - acc: 5.4434e-05 - val_loss: 0.0588 - val_acc: 0.0000e+00\n",
      "Epoch 99/100\n",
      "18371/18371 [==============================] - 21s 1ms/step - loss: 0.0524 - acc: 5.4434e-05 - val_loss: 0.0579 - val_acc: 0.0000e+00\n",
      "Epoch 100/100\n",
      "18371/18371 [==============================] - 22s 1ms/step - loss: 0.0525 - acc: 5.4434e-05 - val_loss: 0.0581 - val_acc: 0.0000e+00\n"
     ]
    },
    {
     "data": {
      "text/plain": [
       "<keras.callbacks.History at 0x7f936da40320>"
      ]
     },
     "execution_count": 178,
     "metadata": {},
     "output_type": "execute_result"
    }
   ],
   "source": [
    "model = Sequential()\n",
    "\n",
    "model.add(LSTM(units = 128,batch_input_shape = (None,X_train.shape[1],X_train.shape[2]), return_sequences=True))\n",
    "model.add(Dropout(0.2))\n",
    "\n",
    "model.add(LSTM(units = 128, return_sequences=True))\n",
    "model.add(Dropout(0.2))\n",
    "\n",
    "model.add(LSTM(units = 128))\n",
    "model.add(Dropout(0.2))\n",
    "\n",
    "model.add(Dense(1))\n",
    "model.add(Activation('relu'))\n",
    "\n",
    "model.compile(loss = 'mse', optimizer = 'adam', metrics = ['accuracy'])\n",
    "\n",
    "model.fit(X_train, y_train, batch_size=512, epochs=100, validation_split = 0.1)"
   ]
  },
  {
   "cell_type": "code",
   "execution_count": 179,
   "metadata": {},
   "outputs": [],
   "source": [
    "from keras.models import load_model\n",
    "model.save('my_model.h5')"
   ]
  },
  {
   "cell_type": "code",
   "execution_count": 180,
   "metadata": {},
   "outputs": [
    {
     "name": "stdout",
     "output_type": "stream",
     "text": [
      "5082/5082 [==============================] - 2s 450us/step\n"
     ]
    }
   ],
   "source": [
    "t1 = model.evaluate(X_test, y_test, verbose=1)"
   ]
  },
  {
   "cell_type": "code",
   "execution_count": 191,
   "metadata": {},
   "outputs": [
    {
     "name": "stdout",
     "output_type": "stream",
     "text": [
      "5082/5082 [==============================] - 2s 353us/step\n"
     ]
    }
   ],
   "source": [
    "p1 = model.predict(X_test, batch_size = 64, verbose = 1)"
   ]
  },
  {
   "cell_type": "code",
   "execution_count": 210,
   "metadata": {},
   "outputs": [
    {
     "name": "stdout",
     "output_type": "stream",
     "text": [
      "20413/20413 [==============================] - 8s 375us/step\n"
     ]
    }
   ],
   "source": [
    "p2 = model.predict(X_train, batch_size = 64, verbose = 1)"
   ]
  },
  {
   "cell_type": "code",
   "execution_count": 237,
   "metadata": {},
   "outputs": [],
   "source": [
    "y_test_temp = np.reshape(y_test, (5082,1))\n",
    "error = abs(y_test_temp - p1)\n",
    "error = v*100"
   ]
  },
  {
   "cell_type": "code",
   "execution_count": 240,
   "metadata": {},
   "outputs": [
    {
     "data": {
      "text/html": [
       "<div>\n",
       "<style scoped>\n",
       "    .dataframe tbody tr th:only-of-type {\n",
       "        vertical-align: middle;\n",
       "    }\n",
       "\n",
       "    .dataframe tbody tr th {\n",
       "        vertical-align: top;\n",
       "    }\n",
       "\n",
       "    .dataframe thead th {\n",
       "        text-align: right;\n",
       "    }\n",
       "</style>\n",
       "<table border=\"1\" class=\"dataframe\">\n",
       "  <thead>\n",
       "    <tr style=\"text-align: right;\">\n",
       "      <th></th>\n",
       "      <th>0</th>\n",
       "    </tr>\n",
       "  </thead>\n",
       "  <tbody>\n",
       "    <tr>\n",
       "      <th>count</th>\n",
       "      <td>5082.000000</td>\n",
       "    </tr>\n",
       "    <tr>\n",
       "      <th>mean</th>\n",
       "      <td>17.128962</td>\n",
       "    </tr>\n",
       "    <tr>\n",
       "      <th>std</th>\n",
       "      <td>17.072329</td>\n",
       "    </tr>\n",
       "    <tr>\n",
       "      <th>min</th>\n",
       "      <td>0.002090</td>\n",
       "    </tr>\n",
       "    <tr>\n",
       "      <th>25%</th>\n",
       "      <td>4.553840</td>\n",
       "    </tr>\n",
       "    <tr>\n",
       "      <th>50%</th>\n",
       "      <td>11.370116</td>\n",
       "    </tr>\n",
       "    <tr>\n",
       "      <th>75%</th>\n",
       "      <td>23.851607</td>\n",
       "    </tr>\n",
       "    <tr>\n",
       "      <th>max</th>\n",
       "      <td>91.715679</td>\n",
       "    </tr>\n",
       "  </tbody>\n",
       "</table>\n",
       "</div>"
      ],
      "text/plain": [
       "                 0\n",
       "count  5082.000000\n",
       "mean     17.128962\n",
       "std      17.072329\n",
       "min       0.002090\n",
       "25%       4.553840\n",
       "50%      11.370116\n",
       "75%      23.851607\n",
       "max      91.715679"
      ]
     },
     "execution_count": 240,
     "metadata": {},
     "output_type": "execute_result"
    }
   ],
   "source": [
    "error1 = pd.DataFrame(error)\n",
    "error1.describe()"
   ]
  },
  {
   "cell_type": "code",
   "execution_count": null,
   "metadata": {},
   "outputs": [],
   "source": []
  }
 ],
 "metadata": {
  "kernelspec": {
   "display_name": "Python 3",
   "language": "python",
   "name": "python3"
  },
  "language_info": {
   "codemirror_mode": {
    "name": "ipython",
    "version": 3
   },
   "file_extension": ".py",
   "mimetype": "text/x-python",
   "name": "python",
   "nbconvert_exporter": "python",
   "pygments_lexer": "ipython3",
   "version": "3.6.8"
  }
 },
 "nbformat": 4,
 "nbformat_minor": 2
}
